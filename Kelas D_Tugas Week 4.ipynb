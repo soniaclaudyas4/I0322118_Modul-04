{
 "cells": [
  {
   "cell_type": "code",
   "execution_count": 17,
   "metadata": {},
   "outputs": [
    {
     "name": "stdout",
     "output_type": "stream",
     "text": [
      "Sonia Claudya Stepani Simanjuntak\n",
      "I0322118\n",
      "Kelas D\n"
     ]
    }
   ],
   "source": [
    "print(input(\"Nama: \"))\n",
    "print(input(\"NIM: \"))\n",
    "print(input(\"Kelas: \"))"
   ]
  },
  {
   "attachments": {},
   "cell_type": "markdown",
   "metadata": {},
   "source": [
    "## 1."
   ]
  },
  {
   "attachments": {},
   "cell_type": "markdown",
   "metadata": {},
   "source": [
    "Buatlah program yang menampilkan salam “Selamat Pagi” dari berbagai negara {Inggris, Perancis, Italia, Spanyol, Jepang, Korea} dengan dua input dari user yaitu bahasa dan diikuti nama user.<br>\n",
    "<br>Ex : \n",
    "<br>\"Ohayou, Onii Chan\"\n",
    "> *note: Kerjakan soal ini dengan percabangan*"
   ]
  },
  {
   "cell_type": "code",
   "execution_count": 22,
   "metadata": {},
   "outputs": [
    {
     "name": "stdout",
     "output_type": "stream",
     "text": [
      "Good morning, sonia\n"
     ]
    }
   ],
   "source": [
    "Inggris  = 'Good morning'\n",
    "Perancis = 'Bonjour'\n",
    "Italia   = 'Buongiorno'\n",
    "Spanyol  = 'Buen dia'\n",
    "Jepang   = 'Ohayou gozaimasu'\n",
    "Korea    = 'Joheun achimimnida'\n",
    "\n",
    "bahasa = str(input('Mau dengar sapaan pagi dengan bahasa apa? Inggris, Perancis, Italia, Spanyol, Jepang, dan Korea. Pilihanmu = '))\n",
    "nama   = str(input('Nama mu siapa? Namamu = '))\n",
    "\n",
    "if (bahasa.capitalize() == 'Inggris'):\n",
    "    print(f'{Inggris}, {nama}')\n",
    "\n",
    "elif (bahasa.capitalize() == 'Perancis'):\n",
    "    print(f\"{Perancis}, {nama}\")\n",
    "\n",
    "elif (bahasa.capitalize() == 'Italia'):\n",
    "    print(f\"{Italia}, {nama}\")\n",
    "\n",
    "elif (bahasa.capitalize() == 'Spanyol'):\n",
    "    print(f\"{Spanyol}, {nama}\")\n",
    "\n",
    "elif (bahasa.capitalize() == 'Jepang'):\n",
    "    print(f\"{Jepang}, {nama}\")\n",
    "\n",
    "elif (bahasa.capitalize() == 'Korea'):\n",
    "    print(f\"{Korea}, {nama}\")\n"
   ]
  },
  {
   "attachments": {},
   "cell_type": "markdown",
   "metadata": {},
   "source": [
    "## 2."
   ]
  },
  {
   "attachments": {},
   "cell_type": "markdown",
   "metadata": {},
   "source": [
    "Buatlah program perhitungan umur dengan menggunakan input user yaitu tahun lahir dari user.<br>\n",
    "<br>Output yang dihasilkan adalah sebagai berikut:\n",
    "<br>\"Apakah anda berasal dari masa depan?\"\n",
    "<br>\"Anda barusaja lahir\"\n",
    "<br>\"Umur Anda adalah xx tahun\"\n",
    "> *note: Kerjakan soal ini dengan percabangan*"
   ]
  },
  {
   "cell_type": "code",
   "execution_count": 18,
   "metadata": {},
   "outputs": [
    {
     "name": "stdout",
     "output_type": "stream",
     "text": [
      "umur anda adalah 1823 tahun\n"
     ]
    }
   ],
   "source": [
    "tahun = int(input('masukkan tahun lahir anda = '))\n",
    "if(tahun > 2023):\n",
    "    print('apakah anda berasal dari masa depan?')\n",
    "elif(tahun == 2023):\n",
    "    print('anda baru saja lahir')\n",
    "else:\n",
    "    print(f'umur anda adalah {2023 - tahun} tahun')"
   ]
  }
 ],
 "metadata": {
  "kernelspec": {
   "display_name": "Python 3",
   "language": "python",
   "name": "python3"
  },
  "language_info": {
   "codemirror_mode": {
    "name": "ipython",
    "version": 3
   },
   "file_extension": ".py",
   "mimetype": "text/x-python",
   "name": "python",
   "nbconvert_exporter": "python",
   "pygments_lexer": "ipython3",
   "version": "3.11.2"
  },
  "orig_nbformat": 4
 },
 "nbformat": 4,
 "nbformat_minor": 2
}
